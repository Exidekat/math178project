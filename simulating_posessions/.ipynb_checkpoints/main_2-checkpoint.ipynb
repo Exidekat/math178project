{
 "cells": [
  {
   "cell_type": "code",
   "execution_count": 7,
   "id": "6eb14e90-1410-49cb-82de-84c43d960d35",
   "metadata": {},
   "outputs": [],
   "source": [
    "from nba_api.stats.endpoints import playbyplayv3\n",
    "import pandas as pd\n",
    "from nba_api.stats.endpoints import leaguegamelog\n",
    "import numpy as np\n",
    "import scipy \n",
    "import matplotlib.pyplot as plt \n",
    "from tqdm import tqdm\n",
    "import time \n",
    "import os \n",
    "from nba_api.stats.endpoints import playbyplayv2, boxscoretraditionalv2, leaguegamefinder\n",
    "import requests\n",
    "\n"
   ]
  },
  {
   "cell_type": "code",
   "execution_count": 12,
   "id": "bba3bc51-7669-438f-a93a-8cd41262e10d",
   "metadata": {},
   "outputs": [],
   "source": [
    "def extract_game_states(game_id):\n",
    "    from nba_api.stats.endpoints import playbyplayv2, boxscoretraditionalv2\n",
    "    import pandas as pd\n",
    "\n",
    "    # Get play-by-play and team info\n",
    "    try:\n",
    "        pbp = playbyplayv2.PlayByPlayV2(game_id=game_id)\n",
    "        df = pbp.get_data_frames()[0]\n",
    "    except Exception as e:\n",
    "        print(f\"[{game_id}] Failed to load play-by-play: {e}\")\n",
    "        return pd.DataFrame(), pd.DataFrame(), pd.DataFrame(), pd.DataFrame()\n",
    "\n",
    "    try:\n",
    "        boxscore = boxscoretraditionalv2.BoxScoreTraditionalV2(game_id=game_id)\n",
    "        teams = boxscore.get_data_frames()[1]\n",
    "    except Exception as e:\n",
    "        print(f\"[{game_id}] Failed to load boxscore: {e}\")\n",
    "        return pd.DataFrame(), pd.DataFrame(), pd.DataFrame(), pd.DataFrame()\n",
    "\n",
    "    if teams.empty or len(teams) < 2:\n",
    "        print(f\"[{game_id}] Skipping: not enough team data.\")\n",
    "        return pd.DataFrame(), pd.DataFrame(), pd.DataFrame(), pd.DataFrame()\n",
    "\n",
    "    home_team = teams.iloc[0]['TEAM_ABBREVIATION']\n",
    "    away_team = teams.iloc[1]['TEAM_ABBREVIATION']\n",
    "    gsw_side = 'home' if home_team == 'GSW' else 'away'\n",
    "\n",
    "    required_columns = ['PERIOD', 'SCORE', 'PCTIMESTRING', 'HOMEDESCRIPTION', 'VISITORDESCRIPTION']\n",
    "    for col in required_columns:\n",
    "        if col not in df.columns:\n",
    "            print(f\"[{game_id}] Missing column in play-by-play: {col}\")\n",
    "            return pd.DataFrame(), pd.DataFrame(), pd.DataFrame(), pd.DataFrame()\n",
    "\n",
    "    state_data = []\n",
    "\n",
    "    for _, row in df.iterrows():\n",
    "        action = row['HOMEDESCRIPTION'] or row['VISITORDESCRIPTION']\n",
    "        raw_team_abbr = home_team if pd.notna(row['HOMEDESCRIPTION']) else away_team\n",
    "        team_side = 'GSW' if raw_team_abbr == 'GSW' else 'OPP'\n",
    "        period = row.get('PERIOD')\n",
    "        score_str = row.get('SCORE')\n",
    "        time_string = row.get('PCTIMESTRING')\n",
    "\n",
    "        if action is None or period is None:\n",
    "            continue\n",
    "\n",
    "        if isinstance(score_str, str) and '-' in score_str:\n",
    "            try:\n",
    "                home_score, away_score = map(int, score_str.split('-'))\n",
    "                if gsw_side == 'home':\n",
    "                    score_margin = int(100 * (home_score - away_score) / max(away_score, home_score)) \\\n",
    "                        if max(home_score, away_score) != 0 else 0\n",
    "                else:\n",
    "                    score_margin = int(100 * (away_score - home_score) / max(away_score, home_score)) \\\n",
    "                        if max(home_score, away_score) != 0 else 0\n",
    "            except:\n",
    "                score_margin = None\n",
    "        else:\n",
    "            score_margin = None\n",
    "\n",
    "        action_lower = action.lower()\n",
    "        if '3pt' in action_lower or '3-point' in action_lower:\n",
    "            state = 'Made 3PT' if 'makes' in action_lower else 'Missed 3PT'\n",
    "        elif 'layup' in action_lower:\n",
    "            state = 'Made Layup' if 'makes' in action_lower else 'Missed Layup'\n",
    "        elif 'mid' in action_lower or 'pullup' in action_lower or 'jump shot' in action_lower:\n",
    "            state = 'Made Midrange' if 'makes' in action_lower else 'Missed Midrange'\n",
    "        elif 'foul' in action_lower:\n",
    "            state = 'Foul'\n",
    "        elif 'free throw' in action_lower:\n",
    "            state = 'Freethrow'\n",
    "        elif 'jump ball' in action_lower:\n",
    "            state = 'Jump ball'\n",
    "        elif 'rebound' in action_lower:\n",
    "            state = 'Rebound'\n",
    "        elif 'substitution' in action_lower:\n",
    "            state = 'Substitution'\n",
    "        elif 'timeout' in action_lower:\n",
    "            state = 'Timeout'\n",
    "        elif 'turnover' in action_lower:\n",
    "            state = 'Turnover'\n",
    "        elif 'violation' in action_lower:\n",
    "            state = 'Violation'\n",
    "        else:\n",
    "            continue\n",
    "\n",
    "        state_data.append({\n",
    "            'Time': time_string,\n",
    "            'Period': period,\n",
    "            'Team': team_side,\n",
    "            'State': f\"{state} ({team_side})\",\n",
    "            'Possession': raw_team_abbr,\n",
    "            'ScoreMargin': score_margin\n",
    "        })\n",
    "\n",
    "    df_states = pd.DataFrame(state_data)\n",
    "\n",
    "    if df_states.empty or 'Period' not in df_states.columns:\n",
    "        print(f\"[{game_id}] Empty or malformed state data.\")\n",
    "        return pd.DataFrame(), pd.DataFrame(), pd.DataFrame(), pd.DataFrame()\n",
    "\n",
    "    # Split by quarters\n",
    "    df_q1 = df_states[df_states['Period'] == 1].reset_index(drop=True)\n",
    "    df_q2 = df_states[df_states['Period'] == 2].reset_index(drop=True)\n",
    "    df_q3 = df_states[df_states['Period'] == 3].reset_index(drop=True)\n",
    "    df_q4_ot = df_states[df_states['Period'] >= 4].reset_index(drop=True)\n",
    "\n",
    "    return df_q1, df_q2, df_q3, df_q4_ot\n"
   ]
  },
  {
   "cell_type": "code",
   "execution_count": 13,
   "id": "a61fc1e7-583c-4ccd-bf0a-abfa1e4d0945",
   "metadata": {},
   "outputs": [
    {
     "name": "stdout",
     "output_type": "stream",
     "text": [
      "Attempt 1 for gamefinder...\n"
     ]
    }
   ],
   "source": [
    "\n",
    "def safe_get_gamefinder(team_id, season, retries=3, delay=3):\n",
    "    for attempt in range(retries):\n",
    "        try:\n",
    "            print(f\"Attempt {attempt+1} for gamefinder...\")\n",
    "            gamefinder = leaguegamefinder.LeagueGameFinder(\n",
    "                team_id_nullable=team_id,\n",
    "                season_nullable=season\n",
    "            )\n",
    "            return gamefinder.get_data_frames()[0]\n",
    "        except requests.exceptions.ReadTimeout:\n",
    "            print(\"Read timeout. Retrying...\")\n",
    "            time.sleep(delay)\n",
    "        except Exception as e:\n",
    "            print(f\"Other error: {e}\")\n",
    "            time.sleep(delay)\n",
    "    raise RuntimeError(\"Failed to fetch game list after retries.\")\n",
    "\n",
    "games = safe_get_gamefinder(team_id='1610612744', season='2024-25')\n",
    "game_ids = games['GAME_ID'].unique().tolist()\n"
   ]
  },
  {
   "cell_type": "code",
   "execution_count": 14,
   "id": "4e20b64a-ac17-489a-81f7-b6aab5bc2495",
   "metadata": {},
   "outputs": [],
   "source": [
    "\n",
    "def build_transition_matrix(states):\n",
    "    unique_states = list(set(states))\n",
    "    state_indices = {state: i for i, state in enumerate(unique_states)}\n",
    "    matrix = np.zeros((len(unique_states), len(unique_states)))\n",
    "\n",
    "    for (s1, s2) in zip(states[:-1], states[1:]):\n",
    "        i, j = state_indices[s1], state_indices[s2]\n",
    "        matrix[i][j] += 1\n",
    "\n",
    "    row_sums = matrix.sum(axis=1, keepdims=True)\n",
    "    transition_matrix = np.divide(matrix, row_sums, where=row_sums != 0)\n",
    "\n",
    "    return pd.DataFrame(transition_matrix, index=unique_states, columns=unique_states)\n"
   ]
  },
  {
   "cell_type": "code",
   "execution_count": null,
   "id": "082b228e-1147-4afe-966f-201c4d8a4e4d",
   "metadata": {},
   "outputs": [],
   "source": [
    "# Filter out rows with missing or invalid state or score margin\n",
    "valid_rows = full_df[\n",
    "    full_df['State'].notna() & full_df['ScoreMargin'].notna()\n",
    "].reset_index(drop=True)\n",
    "\n",
    "# Generate transitions from consecutive valid rows\n",
    "game_transitions = []\n",
    "for i in range(len(valid_rows) - 1):\n",
    "    current_row = valid_rows.iloc[i]\n",
    "    next_row = valid_rows.iloc[i + 1]\n",
    "\n",
    "    game_transitions.append({\n",
    "        'current_state': current_row['State'],\n",
    "        'next_state': next_row['State'],\n",
    "        'quarter': current_row['Period'],\n",
    "        'score_margin': current_row['ScoreMargin'],\n",
    "        'opponent': opponent\n",
    "    })\n"
   ]
  },
  {
   "cell_type": "code",
   "execution_count": 36,
   "id": "057a4681-8187-4616-82b9-62eb7807b5ca",
   "metadata": {},
   "outputs": [
    {
     "name": "stderr",
     "output_type": "stream",
     "text": [
      "  1%|▊                                                                                   | 1/97 [00:06<10:32,  6.59s/it]"
     ]
    },
    {
     "name": "stdout",
     "output_type": "stream",
     "text": [
      "[0042400231] Empty or malformed state data.\n",
      "Loaded transitions from 0042400157 (cached)\n",
      "Loaded transitions from 0042400156 (cached)\n",
      "Loaded transitions from 0042400155 (cached)\n",
      "Loaded transitions from 0042400154 (cached)\n",
      "Loaded transitions from 0042400153 (cached)\n",
      "Loaded transitions from 0042400152 (cached)\n",
      "Loaded transitions from 0042400151 (cached)\n"
     ]
    },
    {
     "name": "stderr",
     "output_type": "stream",
     "text": [
      "  9%|███████▊                                                                            | 9/97 [00:13<01:52,  1.28s/it]"
     ]
    },
    {
     "name": "stdout",
     "output_type": "stream",
     "text": [
      "[0052400121] Skipping: not enough team data.\n"
     ]
    },
    {
     "name": "stderr",
     "output_type": "stream",
     "text": [
      " 10%|████████▌                                                                          | 10/97 [00:19<02:57,  2.03s/it]"
     ]
    },
    {
     "name": "stdout",
     "output_type": "stream",
     "text": [
      "[0022401198] Skipping: not enough team data.\n"
     ]
    },
    {
     "name": "stderr",
     "output_type": "stream",
     "text": [
      "100%|███████████████████████████████████████████████████████████████████████████████████| 97/97 [00:26<00:00,  3.68it/s]"
     ]
    },
    {
     "name": "stdout",
     "output_type": "stream",
     "text": [
      "[0022401183] Skipping: not enough team data.\n",
      "Loaded transitions from 0022401163 (cached)\n",
      "Loaded transitions from 0022401154 (cached)\n",
      "Loaded transitions from 0022401143 (cached)\n",
      "Loaded transitions from 0022401125 (cached)\n",
      "Loaded transitions from 0022401117 (cached)\n",
      "Loaded transitions from 0022401100 (cached)\n",
      "Loaded transitions from 0022401086 (cached)\n",
      "Loaded transitions from 0022401072 (cached)\n",
      "Loaded transitions from 0022401047 (cached)\n",
      "Loaded transitions from 0022401025 (cached)\n",
      "Loaded transitions from 0022401005 (cached)\n",
      "Loaded transitions from 0022401012 (cached)\n",
      "Loaded transitions from 0022400990 (cached)\n",
      "Loaded transitions from 0022400974 (cached)\n",
      "Loaded transitions from 0022400957 (cached)\n",
      "Loaded transitions from 0022400938 (cached)\n",
      "Loaded transitions from 0022400919 (cached)\n",
      "Loaded transitions from 0022400901 (cached)\n",
      "Loaded transitions from 0022400885 (cached)\n",
      "Loaded transitions from 0022400875 (cached)\n",
      "Loaded transitions from 0022400864 (cached)\n",
      "Loaded transitions from 0022400845 (cached)\n",
      "Loaded transitions from 0022400834 (cached)\n",
      "Loaded transitions from 0022400812 (cached)\n",
      "Loaded transitions from 0022400805 (cached)\n",
      "Loaded transitions from 0022400784 (cached)\n",
      "Loaded transitions from 0022400782 (cached)\n",
      "Loaded transitions from 0022400760 (cached)\n",
      "Loaded transitions from 0022400745 (cached)\n",
      "Loaded transitions from 0022400731 (cached)\n",
      "Loaded transitions from 0022400725 (cached)\n",
      "Loaded transitions from 0022400708 (cached)\n",
      "Loaded transitions from 0022400685 (cached)\n",
      "Loaded transitions from 0022400673 (cached)\n",
      "Loaded transitions from 0022400661 (cached)\n",
      "Loaded transitions from 0022400644 (cached)\n",
      "Loaded transitions from 0022400628 (cached)\n",
      "Loaded transitions from 0022400619 (cached)\n",
      "Loaded transitions from 0022400604 (cached)\n",
      "Loaded transitions from 0022400589 (cached)\n",
      "Loaded transitions from 0022400565 (cached)\n",
      "Loaded transitions from 0022400550 (cached)\n",
      "Loaded transitions from 0022400525 (cached)\n",
      "Loaded transitions from 0022400518 (cached)\n",
      "Loaded transitions from 0022400508 (cached)\n",
      "Loaded transitions from 0022400492 (cached)\n",
      "Loaded transitions from 0022400485 (cached)\n",
      "Loaded transitions from 0022400467 (cached)\n",
      "Loaded transitions from 0022400446 (cached)\n",
      "Loaded transitions from 0022400431 (cached)\n",
      "Loaded transitions from 0022400426 (cached)\n",
      "Loaded transitions from 0022400408 (cached)\n",
      "Loaded transitions from 0022400403 (cached)\n",
      "Loaded transitions from 0022400383 (cached)\n",
      "Loaded transitions from 0022400366 (cached)\n",
      "Loaded transitions from 0022401228 (cached)\n",
      "Loaded transitions from 0022401204 (cached)\n",
      "Loaded transitions from 0022400355 (cached)\n",
      "Loaded transitions from 0022400338 (cached)\n",
      "Loaded transitions from 0022400332 (cached)\n",
      "Loaded transitions from 0022400058 (cached)\n",
      "Loaded transitions from 0022400303 (cached)\n",
      "Loaded transitions from 0022400299 (cached)\n",
      "Loaded transitions from 0022400284 (cached)\n",
      "Loaded transitions from 0022400269 (cached)\n",
      "Loaded transitions from 0022400032 (cached)\n",
      "Loaded transitions from 0022400258 (cached)\n",
      "Loaded transitions from 0022400251 (cached)\n",
      "Loaded transitions from 0022400019 (cached)\n",
      "Loaded transitions from 0022400007 (cached)\n",
      "Loaded transitions from 0022400207 (cached)\n",
      "Loaded transitions from 0022400188 (cached)\n",
      "Loaded transitions from 0022400172 (cached)\n",
      "Loaded transitions from 0022400155 (cached)\n",
      "Loaded transitions from 0022400144 (cached)\n",
      "Loaded transitions from 0022400126 (cached)\n",
      "Loaded transitions from 0022400116 (cached)\n",
      "Loaded transitions from 0022400101 (cached)\n",
      "Loaded transitions from 0022400084 (cached)\n",
      "Loaded transitions from 0022400072 (cached)\n",
      "Loaded transitions from 0012400074 (cached)\n",
      "Loaded transitions from 0012400056 (cached)\n",
      "Loaded transitions from 0012400044 (cached)\n",
      "Loaded transitions from 0012400033 (cached)\n",
      "Loaded transitions from 0012400023 (cached)\n",
      "Loaded transitions from 0012400004 (cached)\n"
     ]
    },
    {
     "name": "stderr",
     "output_type": "stream",
     "text": [
      "\n"
     ]
    }
   ],
   "source": [
    "import os\n",
    "import pickle\n",
    "\n",
    "os.makedirs(\"game_pickles\", exist_ok=True)\n",
    "\n",
    "transition_data = []\n",
    "\n",
    "for game_id in tqdm(game_ids):\n",
    "    success = False\n",
    "    while not success:\n",
    "        try:\n",
    "            pickle_path = f\"game_pickles/{game_id}.pkl\"\n",
    "            if os.path.exists(pickle_path):\n",
    "                with open(pickle_path, \"rb\") as f:\n",
    "                    game_transitions = pickle.load(f)\n",
    "                    transition_data.extend(game_transitions)\n",
    "                    print(f\"Loaded transitions from {game_id} (cached)\")\n",
    "                break  \n",
    "\n",
    "            time.sleep(6)  # API rate limiting\n",
    "\n",
    "            # Extract states\n",
    "            df_q1, df_q2, df_q3, df_q4_ot = extract_game_states(game_id)\n",
    "            full_df = pd.concat([df_q1, df_q2, df_q3, df_q4_ot], ignore_index=True)\n",
    "\n",
    "            if full_df.empty or len(full_df) < 2:\n",
    "                break\n",
    "\n",
    "            # Get team info\n",
    "            box = boxscoretraditionalv2.BoxScoreTraditionalV2(game_id=game_id)\n",
    "            teams = box.get_data_frames()[1]\n",
    "            if teams.empty or len(teams) < 2:\n",
    "                break\n",
    "\n",
    "            home = teams.iloc[0]['TEAM_ABBREVIATION']\n",
    "            away = teams.iloc[1]['TEAM_ABBREVIATION']\n",
    "            opponent = away if home == 'GSW' else home\n",
    "\n",
    "            # Filter only rows with valid state and score\n",
    "            valid_rows = full_df[\n",
    "                full_df['State'].notna() & full_df['ScoreMargin'].notna()\n",
    "            ].reset_index(drop=True)\n",
    "\n",
    "            # Construct transitions\n",
    "            game_transitions = []\n",
    "            for i in range(len(valid_rows) - 1):\n",
    "                current_row = valid_rows.iloc[i]\n",
    "                next_row = valid_rows.iloc[i + 1]\n",
    "\n",
    "                game_transitions.append({\n",
    "                    'current_state': current_row['State'],\n",
    "                    'next_state': next_row['State'],\n",
    "                    'quarter': current_row['Period'],\n",
    "                    'score_margin': current_row['ScoreMargin'],\n",
    "                    'opponent': opponent\n",
    "                })\n",
    "\n",
    "            transition_data.extend(game_transitions)\n",
    "\n",
    "            # Cache transitions\n",
    "            with open(pickle_path, \"wb\") as f:\n",
    "                pickle.dump(game_transitions, f)\n",
    "\n",
    "            success = True\n",
    "\n",
    "        except Exception as e:\n",
    "            print(f\"Error processing game {game_id}: {e}\")\n",
    "            continue\n",
    "\n"
   ]
  },
  {
   "cell_type": "code",
   "execution_count": 37,
   "id": "747f9813-7847-4e35-84f3-4c0307ce96bb",
   "metadata": {},
   "outputs": [],
   "source": [
    "transition_df = pd.DataFrame(transition_data)\n"
   ]
  },
  {
   "cell_type": "code",
   "execution_count": 38,
   "id": "ea24bcf5-c9ee-4957-bc14-4a49aef75c45",
   "metadata": {},
   "outputs": [
    {
     "data": {
      "text/html": [
       "<div>\n",
       "<style scoped>\n",
       "    .dataframe tbody tr th:only-of-type {\n",
       "        vertical-align: middle;\n",
       "    }\n",
       "\n",
       "    .dataframe tbody tr th {\n",
       "        vertical-align: top;\n",
       "    }\n",
       "\n",
       "    .dataframe thead th {\n",
       "        text-align: right;\n",
       "    }\n",
       "</style>\n",
       "<table border=\"1\" class=\"dataframe\">\n",
       "  <thead>\n",
       "    <tr style=\"text-align: right;\">\n",
       "      <th></th>\n",
       "      <th>current_state</th>\n",
       "      <th>next_state</th>\n",
       "      <th>quarter</th>\n",
       "      <th>score_margin</th>\n",
       "      <th>opponent</th>\n",
       "    </tr>\n",
       "  </thead>\n",
       "  <tbody>\n",
       "    <tr>\n",
       "      <th>0</th>\n",
       "      <td>Missed Layup (GSW)</td>\n",
       "      <td>Missed Midrange (OPP)</td>\n",
       "      <td>1</td>\n",
       "      <td>-100.0</td>\n",
       "      <td>HOU</td>\n",
       "    </tr>\n",
       "    <tr>\n",
       "      <th>1</th>\n",
       "      <td>Missed 3PT (GSW)</td>\n",
       "      <td>Missed Midrange (OPP)</td>\n",
       "      <td>1</td>\n",
       "      <td>-100.0</td>\n",
       "      <td>HOU</td>\n",
       "    </tr>\n",
       "    <tr>\n",
       "      <th>2</th>\n",
       "      <td>Missed Midrange (OPP)</td>\n",
       "      <td>Missed 3PT (GSW)</td>\n",
       "      <td>1</td>\n",
       "      <td>-60.0</td>\n",
       "      <td>HOU</td>\n",
       "    </tr>\n",
       "    <tr>\n",
       "      <th>3</th>\n",
       "      <td>Missed 3PT (GSW)</td>\n",
       "      <td>Foul (GSW)</td>\n",
       "      <td>1</td>\n",
       "      <td>-75.0</td>\n",
       "      <td>HOU</td>\n",
       "    </tr>\n",
       "    <tr>\n",
       "      <th>4</th>\n",
       "      <td>Missed Midrange (OPP)</td>\n",
       "      <td>Missed Layup (GSW)</td>\n",
       "      <td>1</td>\n",
       "      <td>-50.0</td>\n",
       "      <td>HOU</td>\n",
       "    </tr>\n",
       "  </tbody>\n",
       "</table>\n",
       "</div>"
      ],
      "text/plain": [
       "           current_state             next_state  quarter  score_margin  \\\n",
       "0     Missed Layup (GSW)  Missed Midrange (OPP)        1        -100.0   \n",
       "1       Missed 3PT (GSW)  Missed Midrange (OPP)        1        -100.0   \n",
       "2  Missed Midrange (OPP)       Missed 3PT (GSW)        1         -60.0   \n",
       "3       Missed 3PT (GSW)             Foul (GSW)        1         -75.0   \n",
       "4  Missed Midrange (OPP)     Missed Layup (GSW)        1         -50.0   \n",
       "\n",
       "  opponent  \n",
       "0      HOU  \n",
       "1      HOU  \n",
       "2      HOU  \n",
       "3      HOU  \n",
       "4      HOU  "
      ]
     },
     "execution_count": 38,
     "metadata": {},
     "output_type": "execute_result"
    }
   ],
   "source": [
    "transition_df.head()"
   ]
  },
  {
   "cell_type": "code",
   "execution_count": 39,
   "id": "e176565b-0de2-4249-8899-e4436381c54f",
   "metadata": {},
   "outputs": [],
   "source": [
    "#normalize score_margin\n",
    "transition_df['score_margin'] = pd.Series((transition_df['score_margin'] - transition_df['score_margin'].mean())/transition_df['score_margin'].std())\n",
    "\n",
    "from sklearn.preprocessing import LabelEncoder\n",
    "state_encoder = LabelEncoder()\n",
    "transition_df['current_state_enc'] = state_encoder.fit_transform(transition_df['current_state'])\n",
    "transition_df['next_state_enc'] = state_encoder.fit_transform(transition_df['next_state'])\n",
    "\n",
    "state_encoder = LabelEncoder()\n",
    "transition_df['opponent_enc'] = state_encoder.fit_transform(transition_df['opponent'])\n"
   ]
  },
  {
   "cell_type": "code",
   "execution_count": 40,
   "id": "8b101571-d076-4d92-8708-b28abc6ee7c0",
   "metadata": {},
   "outputs": [
    {
     "data": {
      "text/html": [
       "<div>\n",
       "<style scoped>\n",
       "    .dataframe tbody tr th:only-of-type {\n",
       "        vertical-align: middle;\n",
       "    }\n",
       "\n",
       "    .dataframe tbody tr th {\n",
       "        vertical-align: top;\n",
       "    }\n",
       "\n",
       "    .dataframe thead th {\n",
       "        text-align: right;\n",
       "    }\n",
       "</style>\n",
       "<table border=\"1\" class=\"dataframe\">\n",
       "  <thead>\n",
       "    <tr style=\"text-align: right;\">\n",
       "      <th></th>\n",
       "      <th>current_state</th>\n",
       "      <th>next_state</th>\n",
       "      <th>quarter</th>\n",
       "      <th>score_margin</th>\n",
       "      <th>opponent</th>\n",
       "      <th>current_state_enc</th>\n",
       "      <th>next_state_enc</th>\n",
       "      <th>opponent_enc</th>\n",
       "    </tr>\n",
       "  </thead>\n",
       "  <tbody>\n",
       "    <tr>\n",
       "      <th>0</th>\n",
       "      <td>Missed Layup (GSW)</td>\n",
       "      <td>Missed Midrange (OPP)</td>\n",
       "      <td>1</td>\n",
       "      <td>-3.944068</td>\n",
       "      <td>HOU</td>\n",
       "      <td>4</td>\n",
       "      <td>11</td>\n",
       "      <td>9</td>\n",
       "    </tr>\n",
       "    <tr>\n",
       "      <th>1</th>\n",
       "      <td>Missed 3PT (GSW)</td>\n",
       "      <td>Missed Midrange (OPP)</td>\n",
       "      <td>1</td>\n",
       "      <td>-3.944068</td>\n",
       "      <td>HOU</td>\n",
       "      <td>2</td>\n",
       "      <td>11</td>\n",
       "      <td>9</td>\n",
       "    </tr>\n",
       "    <tr>\n",
       "      <th>2</th>\n",
       "      <td>Missed Midrange (OPP)</td>\n",
       "      <td>Missed 3PT (GSW)</td>\n",
       "      <td>1</td>\n",
       "      <td>-2.355851</td>\n",
       "      <td>HOU</td>\n",
       "      <td>7</td>\n",
       "      <td>6</td>\n",
       "      <td>9</td>\n",
       "    </tr>\n",
       "    <tr>\n",
       "      <th>3</th>\n",
       "      <td>Missed 3PT (GSW)</td>\n",
       "      <td>Foul (GSW)</td>\n",
       "      <td>1</td>\n",
       "      <td>-2.951432</td>\n",
       "      <td>HOU</td>\n",
       "      <td>2</td>\n",
       "      <td>0</td>\n",
       "      <td>9</td>\n",
       "    </tr>\n",
       "    <tr>\n",
       "      <th>4</th>\n",
       "      <td>Missed Midrange (OPP)</td>\n",
       "      <td>Missed Layup (GSW)</td>\n",
       "      <td>1</td>\n",
       "      <td>-1.958797</td>\n",
       "      <td>HOU</td>\n",
       "      <td>7</td>\n",
       "      <td>8</td>\n",
       "      <td>9</td>\n",
       "    </tr>\n",
       "  </tbody>\n",
       "</table>\n",
       "</div>"
      ],
      "text/plain": [
       "           current_state             next_state  quarter  score_margin  \\\n",
       "0     Missed Layup (GSW)  Missed Midrange (OPP)        1     -3.944068   \n",
       "1       Missed 3PT (GSW)  Missed Midrange (OPP)        1     -3.944068   \n",
       "2  Missed Midrange (OPP)       Missed 3PT (GSW)        1     -2.355851   \n",
       "3       Missed 3PT (GSW)             Foul (GSW)        1     -2.951432   \n",
       "4  Missed Midrange (OPP)     Missed Layup (GSW)        1     -1.958797   \n",
       "\n",
       "  opponent  current_state_enc  next_state_enc  opponent_enc  \n",
       "0      HOU                  4              11             9  \n",
       "1      HOU                  2              11             9  \n",
       "2      HOU                  7               6             9  \n",
       "3      HOU                  2               0             9  \n",
       "4      HOU                  7               8             9  "
      ]
     },
     "execution_count": 40,
     "metadata": {},
     "output_type": "execute_result"
    }
   ],
   "source": [
    "transition_df.head()"
   ]
  },
  {
   "cell_type": "code",
   "execution_count": 41,
   "id": "6392632c-12ea-4e0e-b05a-a29e65073ac7",
   "metadata": {},
   "outputs": [],
   "source": [
    "import numpy as np\n",
    "import pandas as pd\n",
    "\n",
    "sequence_length = 20 \n",
    "\n",
    "features = df[['current_state_enc', 'score_margin']].values\n",
    "labels = df['next_state_enc'].values\n",
    "\n",
    "X = []\n",
    "y = []\n",
    "\n",
    "for i in range(len(features) - sequence_length):\n",
    "    X.append(features[i:i+sequence_length])\n",
    "    y.append(labels[i+sequence_length])  # Predict the next state after the full sequence\n",
    "\n",
    "X = np.array(X)  # shape: (samples, timesteps, features)\n",
    "y = np.array(y)  # shape: (samples,)\n"
   ]
  },
  {
   "cell_type": "code",
   "execution_count": 42,
   "id": "91e56a5a-078a-49d7-9bc3-af3daf6b2db1",
   "metadata": {},
   "outputs": [
    {
     "data": {
      "text/plain": [
       "array([[ 4.        , -3.94406805],\n",
       "       [ 2.        , -3.94406805],\n",
       "       [ 7.        , -2.35585103],\n",
       "       [ 2.        , -2.95143241],\n",
       "       [ 7.        , -1.95879677],\n",
       "       [ 4.        , -2.35585103],\n",
       "       [ 5.        , -1.56174252],\n",
       "       [ 7.        , -0.76763401],\n",
       "       [ 2.        , -1.48233167],\n",
       "       [ 1.        , -0.56910689],\n",
       "       [ 7.        ,  0.0264745 ],\n",
       "       [ 2.        , -0.68822316],\n",
       "       [ 0.        , -0.88675029],\n",
       "       [ 5.        , -0.41028518],\n",
       "       [ 5.        ,  0.0264745 ],\n",
       "       [ 5.        ,  0.42352875],\n",
       "       [ 2.        , -0.17205263],\n",
       "       [ 2.        , -0.64851774],\n",
       "       [ 3.        , -0.41028518],\n",
       "       [ 2.        , -0.76763401]])"
      ]
     },
     "execution_count": 42,
     "metadata": {},
     "output_type": "execute_result"
    }
   ],
   "source": [
    "X[0]"
   ]
  },
  {
   "cell_type": "code",
   "execution_count": 43,
   "id": "d2646df1-3b44-4d4a-9ffe-859e7c8c423c",
   "metadata": {},
   "outputs": [
    {
     "data": {
      "text/html": [
       "<pre style=\"white-space:pre;overflow-x:auto;line-height:normal;font-family:Menlo,'DejaVu Sans Mono',consolas,'Courier New',monospace\"><span style=\"font-weight: bold\">Model: \"sequential_3\"</span>\n",
       "</pre>\n"
      ],
      "text/plain": [
       "\u001b[1mModel: \"sequential_3\"\u001b[0m\n"
      ]
     },
     "metadata": {},
     "output_type": "display_data"
    },
    {
     "data": {
      "text/html": [
       "<pre style=\"white-space:pre;overflow-x:auto;line-height:normal;font-family:Menlo,'DejaVu Sans Mono',consolas,'Courier New',monospace\">┏━━━━━━━━━━━━━━━━━━━━━━━━━━━━━━━━━┳━━━━━━━━━━━━━━━━━━━━━━━━┳━━━━━━━━━━━━━━━┓\n",
       "┃<span style=\"font-weight: bold\"> Layer (type)                    </span>┃<span style=\"font-weight: bold\"> Output Shape           </span>┃<span style=\"font-weight: bold\">       Param # </span>┃\n",
       "┡━━━━━━━━━━━━━━━━━━━━━━━━━━━━━━━━━╇━━━━━━━━━━━━━━━━━━━━━━━━╇━━━━━━━━━━━━━━━┩\n",
       "│ masking_3 (<span style=\"color: #0087ff; text-decoration-color: #0087ff\">Masking</span>)             │ (<span style=\"color: #00d7ff; text-decoration-color: #00d7ff\">None</span>, <span style=\"color: #00af00; text-decoration-color: #00af00\">20</span>, <span style=\"color: #00af00; text-decoration-color: #00af00\">2</span>)          │             <span style=\"color: #00af00; text-decoration-color: #00af00\">0</span> │\n",
       "├─────────────────────────────────┼────────────────────────┼───────────────┤\n",
       "│ lstm_3 (<span style=\"color: #0087ff; text-decoration-color: #0087ff\">LSTM</span>)                   │ (<span style=\"color: #00d7ff; text-decoration-color: #00d7ff\">None</span>, <span style=\"color: #00af00; text-decoration-color: #00af00\">64</span>)             │        <span style=\"color: #00af00; text-decoration-color: #00af00\">17,152</span> │\n",
       "├─────────────────────────────────┼────────────────────────┼───────────────┤\n",
       "│ dense_6 (<span style=\"color: #0087ff; text-decoration-color: #0087ff\">Dense</span>)                 │ (<span style=\"color: #00d7ff; text-decoration-color: #00d7ff\">None</span>, <span style=\"color: #00af00; text-decoration-color: #00af00\">64</span>)             │         <span style=\"color: #00af00; text-decoration-color: #00af00\">4,160</span> │\n",
       "├─────────────────────────────────┼────────────────────────┼───────────────┤\n",
       "│ dense_7 (<span style=\"color: #0087ff; text-decoration-color: #0087ff\">Dense</span>)                 │ (<span style=\"color: #00d7ff; text-decoration-color: #00d7ff\">None</span>, <span style=\"color: #00af00; text-decoration-color: #00af00\">20</span>)             │         <span style=\"color: #00af00; text-decoration-color: #00af00\">1,300</span> │\n",
       "└─────────────────────────────────┴────────────────────────┴───────────────┘\n",
       "</pre>\n"
      ],
      "text/plain": [
       "┏━━━━━━━━━━━━━━━━━━━━━━━━━━━━━━━━━┳━━━━━━━━━━━━━━━━━━━━━━━━┳━━━━━━━━━━━━━━━┓\n",
       "┃\u001b[1m \u001b[0m\u001b[1mLayer (type)                   \u001b[0m\u001b[1m \u001b[0m┃\u001b[1m \u001b[0m\u001b[1mOutput Shape          \u001b[0m\u001b[1m \u001b[0m┃\u001b[1m \u001b[0m\u001b[1m      Param #\u001b[0m\u001b[1m \u001b[0m┃\n",
       "┡━━━━━━━━━━━━━━━━━━━━━━━━━━━━━━━━━╇━━━━━━━━━━━━━━━━━━━━━━━━╇━━━━━━━━━━━━━━━┩\n",
       "│ masking_3 (\u001b[38;5;33mMasking\u001b[0m)             │ (\u001b[38;5;45mNone\u001b[0m, \u001b[38;5;34m20\u001b[0m, \u001b[38;5;34m2\u001b[0m)          │             \u001b[38;5;34m0\u001b[0m │\n",
       "├─────────────────────────────────┼────────────────────────┼───────────────┤\n",
       "│ lstm_3 (\u001b[38;5;33mLSTM\u001b[0m)                   │ (\u001b[38;5;45mNone\u001b[0m, \u001b[38;5;34m64\u001b[0m)             │        \u001b[38;5;34m17,152\u001b[0m │\n",
       "├─────────────────────────────────┼────────────────────────┼───────────────┤\n",
       "│ dense_6 (\u001b[38;5;33mDense\u001b[0m)                 │ (\u001b[38;5;45mNone\u001b[0m, \u001b[38;5;34m64\u001b[0m)             │         \u001b[38;5;34m4,160\u001b[0m │\n",
       "├─────────────────────────────────┼────────────────────────┼───────────────┤\n",
       "│ dense_7 (\u001b[38;5;33mDense\u001b[0m)                 │ (\u001b[38;5;45mNone\u001b[0m, \u001b[38;5;34m20\u001b[0m)             │         \u001b[38;5;34m1,300\u001b[0m │\n",
       "└─────────────────────────────────┴────────────────────────┴───────────────┘\n"
      ]
     },
     "metadata": {},
     "output_type": "display_data"
    },
    {
     "data": {
      "text/html": [
       "<pre style=\"white-space:pre;overflow-x:auto;line-height:normal;font-family:Menlo,'DejaVu Sans Mono',consolas,'Courier New',monospace\"><span style=\"font-weight: bold\"> Total params: </span><span style=\"color: #00af00; text-decoration-color: #00af00\">22,612</span> (88.33 KB)\n",
       "</pre>\n"
      ],
      "text/plain": [
       "\u001b[1m Total params: \u001b[0m\u001b[38;5;34m22,612\u001b[0m (88.33 KB)\n"
      ]
     },
     "metadata": {},
     "output_type": "display_data"
    },
    {
     "data": {
      "text/html": [
       "<pre style=\"white-space:pre;overflow-x:auto;line-height:normal;font-family:Menlo,'DejaVu Sans Mono',consolas,'Courier New',monospace\"><span style=\"font-weight: bold\"> Trainable params: </span><span style=\"color: #00af00; text-decoration-color: #00af00\">22,612</span> (88.33 KB)\n",
       "</pre>\n"
      ],
      "text/plain": [
       "\u001b[1m Trainable params: \u001b[0m\u001b[38;5;34m22,612\u001b[0m (88.33 KB)\n"
      ]
     },
     "metadata": {},
     "output_type": "display_data"
    },
    {
     "data": {
      "text/html": [
       "<pre style=\"white-space:pre;overflow-x:auto;line-height:normal;font-family:Menlo,'DejaVu Sans Mono',consolas,'Courier New',monospace\"><span style=\"font-weight: bold\"> Non-trainable params: </span><span style=\"color: #00af00; text-decoration-color: #00af00\">0</span> (0.00 B)\n",
       "</pre>\n"
      ],
      "text/plain": [
       "\u001b[1m Non-trainable params: \u001b[0m\u001b[38;5;34m0\u001b[0m (0.00 B)\n"
      ]
     },
     "metadata": {},
     "output_type": "display_data"
    }
   ],
   "source": [
    "import tensorflow as tf\n",
    "from tensorflow.keras import layers, models\n",
    "\n",
    "num_classes = df['next_state_enc'].nunique()\n",
    "\n",
    "model = models.Sequential([\n",
    "    layers.Input(shape=(sequence_length, X.shape[2])),  # (timesteps, features)\n",
    "    layers.Masking(mask_value=0.0),  # In case you use padding later\n",
    "    layers.LSTM(64, return_sequences=False),\n",
    "    layers.Dense(64, activation='relu'),\n",
    "    layers.Dense(num_classes, activation='softmax')\n",
    "])\n",
    "\n",
    "model.compile(optimizer='adam', loss='sparse_categorical_crossentropy', metrics=['accuracy'])\n",
    "model.summary()\n"
   ]
  },
  {
   "cell_type": "code",
   "execution_count": 44,
   "id": "0ae50070-26c9-4dae-8884-dc3c4dc7e415",
   "metadata": {},
   "outputs": [
    {
     "name": "stdout",
     "output_type": "stream",
     "text": [
      "Epoch 1/10\n",
      "\u001b[1m236/236\u001b[0m \u001b[32m━━━━━━━━━━━━━━━━━━━━\u001b[0m\u001b[37m\u001b[0m \u001b[1m6s\u001b[0m 18ms/step - accuracy: 0.1179 - loss: 2.7645 - val_accuracy: 0.1350 - val_loss: 2.6520\n",
      "Epoch 2/10\n",
      "\u001b[1m236/236\u001b[0m \u001b[32m━━━━━━━━━━━━━━━━━━━━\u001b[0m\u001b[37m\u001b[0m \u001b[1m4s\u001b[0m 16ms/step - accuracy: 0.1468 - loss: 2.6638 - val_accuracy: 0.1477 - val_loss: 2.6528\n",
      "Epoch 3/10\n",
      "\u001b[1m236/236\u001b[0m \u001b[32m━━━━━━━━━━━━━━━━━━━━\u001b[0m\u001b[37m\u001b[0m \u001b[1m4s\u001b[0m 16ms/step - accuracy: 0.1415 - loss: 2.6639 - val_accuracy: 0.1323 - val_loss: 2.6435\n",
      "Epoch 4/10\n",
      "\u001b[1m236/236\u001b[0m \u001b[32m━━━━━━━━━━━━━━━━━━━━\u001b[0m\u001b[37m\u001b[0m \u001b[1m4s\u001b[0m 16ms/step - accuracy: 0.1460 - loss: 2.6611 - val_accuracy: 0.1323 - val_loss: 2.6403\n",
      "Epoch 5/10\n",
      "\u001b[1m236/236\u001b[0m \u001b[32m━━━━━━━━━━━━━━━━━━━━\u001b[0m\u001b[37m\u001b[0m \u001b[1m4s\u001b[0m 17ms/step - accuracy: 0.1426 - loss: 2.6666 - val_accuracy: 0.1477 - val_loss: 2.6510\n",
      "Epoch 6/10\n",
      "\u001b[1m236/236\u001b[0m \u001b[32m━━━━━━━━━━━━━━━━━━━━\u001b[0m\u001b[37m\u001b[0m \u001b[1m4s\u001b[0m 17ms/step - accuracy: 0.1450 - loss: 2.6572 - val_accuracy: 0.1328 - val_loss: 2.6425\n",
      "Epoch 7/10\n",
      "\u001b[1m236/236\u001b[0m \u001b[32m━━━━━━━━━━━━━━━━━━━━\u001b[0m\u001b[37m\u001b[0m \u001b[1m4s\u001b[0m 17ms/step - accuracy: 0.1486 - loss: 2.6505 - val_accuracy: 0.1435 - val_loss: 2.6433\n",
      "Epoch 8/10\n",
      "\u001b[1m236/236\u001b[0m \u001b[32m━━━━━━━━━━━━━━━━━━━━\u001b[0m\u001b[37m\u001b[0m \u001b[1m4s\u001b[0m 17ms/step - accuracy: 0.1508 - loss: 2.6493 - val_accuracy: 0.1350 - val_loss: 2.6441\n",
      "Epoch 9/10\n",
      "\u001b[1m236/236\u001b[0m \u001b[32m━━━━━━━━━━━━━━━━━━━━\u001b[0m\u001b[37m\u001b[0m \u001b[1m4s\u001b[0m 18ms/step - accuracy: 0.1439 - loss: 2.6492 - val_accuracy: 0.1350 - val_loss: 2.6435\n",
      "Epoch 10/10\n",
      "\u001b[1m236/236\u001b[0m \u001b[32m━━━━━━━━━━━━━━━━━━━━\u001b[0m\u001b[37m\u001b[0m \u001b[1m4s\u001b[0m 18ms/step - accuracy: 0.1386 - loss: 2.6674 - val_accuracy: 0.1291 - val_loss: 2.6413\n"
     ]
    },
    {
     "data": {
      "text/plain": [
       "<keras.src.callbacks.history.History at 0x7fdf44705e50>"
      ]
     },
     "execution_count": 44,
     "metadata": {},
     "output_type": "execute_result"
    }
   ],
   "source": [
    "model.fit(X, y, epochs=10, batch_size=32, validation_split=0.2)\n"
   ]
  },
  {
   "cell_type": "code",
   "execution_count": 45,
   "id": "870f0156-f20f-4ff1-a931-a57a65adab9d",
   "metadata": {},
   "outputs": [
    {
     "name": "stdout",
     "output_type": "stream",
     "text": [
      "\u001b[1m1/1\u001b[0m \u001b[32m━━━━━━━━━━━━━━━━━━━━\u001b[0m\u001b[37m\u001b[0m \u001b[1m0s\u001b[0m 187ms/step\n",
      "Predicted class ID: 7\n"
     ]
    }
   ],
   "source": [
    "test_seq = X[0:1]\n",
    "pred = model.predict(test_seq)\n",
    "predicted_class = np.argmax(pred, axis=-1)\n",
    "\n",
    "print(\"Predicted class ID:\", predicted_class[0])\n"
   ]
  },
  {
   "cell_type": "code",
   "execution_count": 47,
   "id": "d5e84805-150b-4709-ad30-da3f4c1abd07",
   "metadata": {},
   "outputs": [
    {
     "name": "stdout",
     "output_type": "stream",
     "text": [
      "                       precision    recall  f1-score   support\n",
      "\n",
      "           Foul (GSW)       0.00      0.00      0.00       144\n",
      "           Foul (OPP)       0.13      0.03      0.04       152\n",
      "      Freethrow (GSW)       0.41      0.87      0.56       123\n",
      "      Freethrow (OPP)       0.46      0.90      0.61       150\n",
      "      Jump ball (GSW)       0.00      0.00      0.00         1\n",
      "      Jump ball (OPP)       0.00      0.00      0.00         5\n",
      "     Missed 3PT (GSW)       0.27      0.67      0.38       250\n",
      "     Missed 3PT (OPP)       0.32      0.67      0.43       293\n",
      "   Missed Layup (GSW)       0.00      0.00      0.00       104\n",
      "   Missed Layup (OPP)       0.00      0.00      0.00       120\n",
      "Missed Midrange (GSW)       0.17      0.01      0.02       118\n",
      "Missed Midrange (OPP)       0.05      0.01      0.02       106\n",
      "        Rebound (GSW)       0.00      0.00      0.00        37\n",
      "        Rebound (OPP)       0.00      0.00      0.00        36\n",
      "        Timeout (GSW)       0.00      0.00      0.00        68\n",
      "        Timeout (OPP)       0.00      0.00      0.00        55\n",
      "       Turnover (GSW)       0.00      0.00      0.00        31\n",
      "       Turnover (OPP)       0.00      0.00      0.00        82\n",
      "      Violation (GSW)       0.00      0.00      0.00         4\n",
      "      Violation (OPP)       0.00      0.00      0.00         7\n",
      "\n",
      "             accuracy                           0.32      1886\n",
      "            macro avg       0.09      0.16      0.10      1886\n",
      "         weighted avg       0.17      0.32      0.21      1886\n",
      "\n"
     ]
    },
    {
     "name": "stderr",
     "output_type": "stream",
     "text": [
      "/home/nealx/math178/final_proj/.env/lib/python3.11/site-packages/sklearn/metrics/_classification.py:1565: UndefinedMetricWarning: Precision is ill-defined and being set to 0.0 in labels with no predicted samples. Use `zero_division` parameter to control this behavior.\n",
      "  _warn_prf(average, modifier, f\"{metric.capitalize()} is\", len(result))\n",
      "/home/nealx/math178/final_proj/.env/lib/python3.11/site-packages/sklearn/metrics/_classification.py:1565: UndefinedMetricWarning: Precision is ill-defined and being set to 0.0 in labels with no predicted samples. Use `zero_division` parameter to control this behavior.\n",
      "  _warn_prf(average, modifier, f\"{metric.capitalize()} is\", len(result))\n",
      "/home/nealx/math178/final_proj/.env/lib/python3.11/site-packages/sklearn/metrics/_classification.py:1565: UndefinedMetricWarning: Precision is ill-defined and being set to 0.0 in labels with no predicted samples. Use `zero_division` parameter to control this behavior.\n",
      "  _warn_prf(average, modifier, f\"{metric.capitalize()} is\", len(result))\n"
     ]
    }
   ],
   "source": [
    "import pandas as pd\n",
    "from sklearn.ensemble import RandomForestClassifier\n",
    "from sklearn.preprocessing import LabelEncoder\n",
    "from sklearn.model_selection import train_test_split\n",
    "from sklearn.metrics import classification_report\n",
    "\n",
    "# transition_df: current_state, next_state, quarter, score_margin, opponent\n",
    "\n",
    "le_current = LabelEncoder()\n",
    "le_next = LabelEncoder()\n",
    "le_opp = LabelEncoder()\n",
    "\n",
    "transition_df['current_state_enc'] = le_current.fit_transform(transition_df['current_state'])\n",
    "transition_df['next_state_enc'] = le_next.fit_transform(transition_df['next_state'])\n",
    "transition_df['opponent_enc'] = le_opp.fit_transform(transition_df['opponent'])\n",
    "\n",
    "X = transition_df[['current_state_enc', 'quarter', 'score_margin', 'opponent_enc']]\n",
    "y = transition_df['next_state_enc']\n",
    "\n",
    "X_train, X_test, y_train, y_test = train_test_split(X, y, test_size=0.2, random_state=42)\n",
    "\n",
    "clf = RandomForestClassifier(n_estimators=100, max_depth=10, random_state=42)\n",
    "clf.fit(X_train, y_train)\n",
    "\n",
    "y_pred = clf.predict(X_test)\n",
    "print(classification_report(y_test, y_pred, target_names=le_next.classes_))\n"
   ]
  },
  {
   "cell_type": "code",
   "execution_count": 51,
   "id": "00b0781e-b600-4010-9ebb-13098c464442",
   "metadata": {},
   "outputs": [
    {
     "data": {
      "text/plain": [
       "array(['Missed Layup (GSW)', 'Missed 3PT (GSW)', 'Missed Midrange (OPP)',\n",
       "       'Missed Layup (OPP)', 'Freethrow (OPP)', 'Freethrow (GSW)',\n",
       "       'Missed 3PT (OPP)', 'Missed Midrange (GSW)'], dtype=object)"
      ]
     },
     "execution_count": 51,
     "metadata": {},
     "output_type": "execute_result"
    }
   ],
   "source": [
    "transition_df['current_state'].unique()"
   ]
  },
  {
   "cell_type": "code",
   "execution_count": null,
   "id": "347293f6-821c-40a6-bca3-1719bb4dbb18",
   "metadata": {},
   "outputs": [],
   "source": []
  }
 ],
 "metadata": {
  "kernelspec": {
   "display_name": "Python 3 (ipykernel)",
   "language": "python",
   "name": "python3"
  },
  "language_info": {
   "codemirror_mode": {
    "name": "ipython",
    "version": 3
   },
   "file_extension": ".py",
   "mimetype": "text/x-python",
   "name": "python",
   "nbconvert_exporter": "python",
   "pygments_lexer": "ipython3",
   "version": "3.11.11"
  }
 },
 "nbformat": 4,
 "nbformat_minor": 5
}
