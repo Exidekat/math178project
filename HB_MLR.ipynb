{
 "cells": [
  {
   "cell_type": "code",
   "execution_count": null,
   "id": "0",
   "metadata": {},
   "outputs": [],
   "source": [
    "# Cell 1 – Imports and Player Selection\n",
    "import random\n",
    "import pandas as pd\n",
    "from nba_api.stats.static import players\n",
    "from nba_api.stats.endpoints import playergamelog\n",
    "from sklearn.model_selection import train_test_split\n",
    "from sklearn.linear_model import LogisticRegression\n",
    "from sklearn.metrics import accuracy_score\n",
    "\n",
    "# fetch the full list of NBA players, then sample 50\n",
    "all_players = players.get_players()\n",
    "sampled = random.sample(all_players, 50)\n",
    "player_id_map = {p['id']: p['full_name'] for p in sampled}\n",
    "player_ids = list(player_id_map.keys())\n",
    "\n",
    "print(f\"Selected {len(player_ids)} players:\")\n",
    "for pid, name in player_id_map.items():\n",
    "    print(f\"  • {name} (ID: {pid})\")\n"
   ]
  },
  {
   "cell_type": "code",
   "execution_count": null,
   "id": "1",
   "metadata": {},
   "outputs": [],
   "source": [
    "# Cell 2 – robustly download regular‐season logs for each player\n",
    "from nba_api.stats.endpoints import playercareerstats, playergamelog\n",
    "\n",
    "logs_list = []\n",
    "skipped = []  # to record which (player,season) we drop and why\n",
    "\n",
    "for pid in player_ids:\n",
    "    # 1) get all seasons this player appears in\n",
    "    career = playercareerstats.PlayerCareerStats(player_id=pid).get_data_frames()[0]\n",
    "    seasons = career['SEASON_ID'].unique()\n",
    "\n",
    "    for season in seasons:\n",
    "        # 2) pull the reg-season log\n",
    "        try:\n",
    "            gl = playergamelog.PlayerGameLog(\n",
    "                player_id=pid,\n",
    "                season=season,\n",
    "                season_type_all_star='Regular Season'\n",
    "            ).get_data_frames()[0]\n",
    "        except Exception as e:\n",
    "            skipped.append((pid, season, f\"API error: {e}\"))\n",
    "            continue\n",
    "\n",
    "        # 3) skip if no rows\n",
    "        if gl.empty:\n",
    "            continue\n",
    "\n",
    "        # 4) normalize to UPPERCASE\n",
    "        gl.columns = [c.upper() for c in gl.columns]\n",
    "\n",
    "        # 5) safely extract the five fields\n",
    "        wanted = ['GAME_ID','PLAYER_ID','TEAM_ID','MATCHUP','WL']\n",
    "        sub = gl.filter(items=wanted)  # this never raises; missing cols just get dropped\n",
    "        missing = set(wanted) - set(sub.columns)\n",
    "        if missing:\n",
    "            skipped.append((pid, season, f\"missing cols: {missing}\"))\n",
    "            continue\n",
    "\n",
    "        # 6) keep only the five columns (in the right order)\n",
    "        logs_list.append(sub[wanted])\n",
    "\n",
    "# report what we skipped\n",
    "for pid, season, reason in skipped:\n",
    "    print(f\"⚠️  Skipped {pid}@{season}: {reason}\")\n",
    "\n",
    "# concatenate\n",
    "logs = pd.concat(logs_list, ignore_index=True)\n",
    "print(f\"✅  Fetched {len(logs)} total rows of game‐log data.\")\n",
    "logs.head()\n"
   ]
  },
  {
   "cell_type": "code",
   "execution_count": null,
   "id": "2",
   "metadata": {},
   "outputs": [],
   "source": []
  }
 ],
 "metadata": {
  "kernelspec": {
   "display_name": "Python 3",
   "language": "python",
   "name": "python3"
  },
  "language_info": {
   "codemirror_mode": {
    "name": "ipython",
    "version": 2
   },
   "file_extension": ".py",
   "mimetype": "text/x-python",
   "name": "python",
   "nbconvert_exporter": "python",
   "pygments_lexer": "ipython2",
   "version": "2.7.6"
  }
 },
 "nbformat": 4,
 "nbformat_minor": 5
}
