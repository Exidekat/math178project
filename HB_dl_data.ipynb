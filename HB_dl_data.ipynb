{
 "cells": [
  {
   "cell_type": "code",
   "execution_count": null,
   "id": "0",
   "metadata": {},
   "outputs": [],
   "source": [
    "from nba_api.stats.endpoints import playbyplayv3\n",
    "import pathlib\n",
    "import os\n",
    "import pandas as pd\n",
    "import matplotlib.pyplot as plt\n",
    "import itertools\n",
    "from scipy.stats import pearsonr\n",
    "import functools\n",
    "\n",
    "log = playbyplayv3.PlayByPlayV3(game_id=\"0022400849\")\n",
    "frames = log.get_data_frames()\n",
    "gamelog = frames[0]\n",
    "gamelog.to_csv('data/playbyplay.csv')"
   ]
  },
  {
   "cell_type": "code",
   "execution_count": null,
   "id": "1",
   "metadata": {},
   "outputs": [],
   "source": [
    "gamelog['state'] = gamelog['actionType'].fillna('') + ' - ' + gamelog['subType'].fillna('')\n",
    "gamelog['next_state'] = gamelog['state'].shift(-1)\n",
    "\n",
    "# Drop the last row if next_state is NaN\n",
    "transitions = gamelog.dropna(subset=['next_state'])\n",
    "\n",
    "# Now count transitions\n",
    "transition_counts = transitions.groupby(['state', 'next_state']).size().unstack(fill_value=0)\n",
    "\n",
    "# Normalize to probabilities\n",
    "transition_matrix = transition_counts.div(transition_counts.sum(axis=1), axis=0)\n",
    "\n",
    "# Display the transition matrix\n",
    "transition_matrix.to_csv('data/transition_matrix.csv')\n",
    "print(transition_matrix)"
   ]
  },
  {
   "cell_type": "code",
   "execution_count": null,
   "id": "2",
   "metadata": {},
   "outputs": [],
   "source": []
  }
 ],
 "metadata": {
  "kernelspec": {
   "display_name": "Python 3",
   "language": "python",
   "name": "python3"
  },
  "language_info": {
   "codemirror_mode": {
    "name": "ipython",
    "version": 2
   },
   "file_extension": ".py",
   "mimetype": "text/x-python",
   "name": "python",
   "nbconvert_exporter": "python",
   "pygments_lexer": "ipython2",
   "version": "2.7.6"
  }
 },
 "nbformat": 4,
 "nbformat_minor": 5
}
